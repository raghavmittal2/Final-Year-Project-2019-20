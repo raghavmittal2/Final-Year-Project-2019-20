{
  "nbformat": 4,
  "nbformat_minor": 0,
  "metadata": {
    "colab": {
      "name": "Basic Pipeline.ipynb",
      "provenance": [],
      "machine_shape": "hm",
      "authorship_tag": "ABX9TyMZVf2FJFuM2WAGNOP2niT2",
      "include_colab_link": true
    },
    "kernelspec": {
      "name": "python3",
      "display_name": "Python 3"
    }
  },
  "cells": [
    {
      "cell_type": "markdown",
      "metadata": {
        "id": "view-in-github",
        "colab_type": "text"
      },
      "source": [
        "<a href=\"https://colab.research.google.com/github/raghavmittal2/Final-Year-Project-2019-20/blob/master/Basic_Pipeline.ipynb\" target=\"_parent\"><img src=\"https://colab.research.google.com/assets/colab-badge.svg\" alt=\"Open In Colab\"/></a>"
      ]
    },
    {
      "cell_type": "code",
      "metadata": {
        "id": "uVUfBK5K7HJ9",
        "colab_type": "code",
        "colab": {}
      },
      "source": [
        "import json\n",
        "import pandas as pd\n",
        "import numpy as np\n",
        "import matplotlib.pyplot as plt\n",
        "from sklearn.cluster import KMeans\n",
        "from sklearn.feature_extraction.text import CountVectorizer\n",
        "from sklearn.feature_extraction.text import TfidfVectorizer\n",
        "from sklearn.model_selection import train_test_split\n",
        "from sklearn.naive_bayes import MultinomialNB\n",
        "from sklearn.metrics import confusion_matrix\n",
        "from sklearn.metrics import accuracy_score\n",
        "from sklearn.metrics import classification_report\n",
        "import os"
      ],
      "execution_count": 0,
      "outputs": []
    },
    {
      "cell_type": "code",
      "metadata": {
        "id": "4Pf9bprF7euM",
        "colab_type": "code",
        "outputId": "3d01b62a-b46b-407c-cb36-07ba9dfa5119",
        "colab": {
          "base_uri": "https://localhost:8080/",
          "height": 128
        }
      },
      "source": [
        "from google.colab import drive\n",
        "drive.mount('/content/gdrive')"
      ],
      "execution_count": 2,
      "outputs": [
        {
          "output_type": "stream",
          "text": [
            "Go to this URL in a browser: https://accounts.google.com/o/oauth2/auth?client_id=947318989803-6bn6qk8qdgf4n4g3pfee6491hc0brc4i.apps.googleusercontent.com&redirect_uri=urn%3aietf%3awg%3aoauth%3a2.0%3aoob&response_type=code&scope=email%20https%3a%2f%2fwww.googleapis.com%2fauth%2fdocs.test%20https%3a%2f%2fwww.googleapis.com%2fauth%2fdrive%20https%3a%2f%2fwww.googleapis.com%2fauth%2fdrive.photos.readonly%20https%3a%2f%2fwww.googleapis.com%2fauth%2fpeopleapi.readonly\n",
            "\n",
            "Enter your authorization code:\n",
            "··········\n",
            "Mounted at /content/gdrive\n"
          ],
          "name": "stdout"
        }
      ]
    },
    {
      "cell_type": "code",
      "metadata": {
        "id": "_RvoGAj_7fyZ",
        "colab_type": "code",
        "outputId": "9c12d788-d901-40eb-9afb-8a0e9fee3eb6",
        "colab": {
          "base_uri": "https://localhost:8080/",
          "height": 108
        }
      },
      "source": [
        "!ls /content/gdrive/\"My Drive\"/'Colab Notebooks'/"
      ],
      "execution_count": 3,
      "outputs": [
        {
          "output_type": "stream",
          "text": [
            "making_csv_from_data012.ipynb\t   research_proj_sportstech.ipynb\n",
            "research_proj_experiment1.1.ipynb  TREC_Washington_Post_collection.v2.json\n",
            "research_proj_experiment1.2.ipynb  washington.csv\n",
            "research_proj_experiment2.ipynb    washington_multi.csv\n",
            "research_proj_multi.ipynb\n"
          ],
          "name": "stdout"
        }
      ]
    },
    {
      "cell_type": "code",
      "metadata": {
        "id": "BFiB1OUc7x_5",
        "colab_type": "code",
        "outputId": "97f6af97-8c7b-4523-a211-cbb57635f14c",
        "colab": {
          "base_uri": "https://localhost:8080/",
          "height": 35
        }
      },
      "source": [
        "os.path.isfile(\"/content/gdrive/My Drive/Colab Notebooks/washington_multi.csv\")"
      ],
      "execution_count": 2,
      "outputs": [
        {
          "output_type": "execute_result",
          "data": {
            "text/plain": [
              "True"
            ]
          },
          "metadata": {
            "tags": []
          },
          "execution_count": 2
        }
      ]
    },
    {
      "cell_type": "code",
      "metadata": {
        "id": "8aztjCzD76ET",
        "colab_type": "code",
        "outputId": "3e904375-5cbb-476e-8ae4-2e0e24be0ce8",
        "colab": {
          "base_uri": "https://localhost:8080/",
          "height": 198
        }
      },
      "source": [
        "df = pd.read_csv(\"/content/gdrive/My Drive/Colab Notebooks/washington_multi.csv\", names=['category', 'date', 'content'])\n",
        "# converting the Unix date into YYYY-MM-DD format\n",
        "df['date'] = pd.to_datetime(df['date'], unit='ms')\n",
        "df.head()"
      ],
      "execution_count": 3,
      "outputs": [
        {
          "output_type": "execute_result",
          "data": {
            "text/html": [
              "<div>\n",
              "<style scoped>\n",
              "    .dataframe tbody tr th:only-of-type {\n",
              "        vertical-align: middle;\n",
              "    }\n",
              "\n",
              "    .dataframe tbody tr th {\n",
              "        vertical-align: top;\n",
              "    }\n",
              "\n",
              "    .dataframe thead th {\n",
              "        text-align: right;\n",
              "    }\n",
              "</style>\n",
              "<table border=\"1\" class=\"dataframe\">\n",
              "  <thead>\n",
              "    <tr style=\"text-align: right;\">\n",
              "      <th></th>\n",
              "      <th>category</th>\n",
              "      <th>date</th>\n",
              "      <th>content</th>\n",
              "    </tr>\n",
              "  </thead>\n",
              "  <tbody>\n",
              "    <tr>\n",
              "      <th>0</th>\n",
              "      <td>2</td>\n",
              "      <td>2012-01-01 00:54:00</td>\n",
              "      <td>Iowa caucuses: GOP presidential hopefuls makin...</td>\n",
              "    </tr>\n",
              "    <tr>\n",
              "      <th>1</th>\n",
              "      <td>2</td>\n",
              "      <td>2012-01-01 01:17:52</td>\n",
              "      <td>Many Iowans still don’t know who they will cau...</td>\n",
              "    </tr>\n",
              "    <tr>\n",
              "      <th>2</th>\n",
              "      <td>1</td>\n",
              "      <td>2012-01-01 03:58:16</td>\n",
              "      <td>NFL playoff picture: A breakdown of scenarios ...</td>\n",
              "    </tr>\n",
              "    <tr>\n",
              "      <th>3</th>\n",
              "      <td>2</td>\n",
              "      <td>2012-01-01 17:58:00</td>\n",
              "      <td>GOP’s battle plan against Obama: Use his own w...</td>\n",
              "    </tr>\n",
              "    <tr>\n",
              "      <th>4</th>\n",
              "      <td>2</td>\n",
              "      <td>2012-01-01 22:23:00</td>\n",
              "      <td>Ron Paul leaves rosy outlooks, campaign promis...</td>\n",
              "    </tr>\n",
              "  </tbody>\n",
              "</table>\n",
              "</div>"
            ],
            "text/plain": [
              "   category  ...                                            content\n",
              "0         2  ...  Iowa caucuses: GOP presidential hopefuls makin...\n",
              "1         2  ...  Many Iowans still don’t know who they will cau...\n",
              "2         1  ...  NFL playoff picture: A breakdown of scenarios ...\n",
              "3         2  ...  GOP’s battle plan against Obama: Use his own w...\n",
              "4         2  ...  Ron Paul leaves rosy outlooks, campaign promis...\n",
              "\n",
              "[5 rows x 3 columns]"
            ]
          },
          "metadata": {
            "tags": []
          },
          "execution_count": 3
        }
      ]
    },
    {
      "cell_type": "code",
      "metadata": {
        "id": "6URGayVmy8DO",
        "colab_type": "code",
        "colab": {
          "base_uri": "https://localhost:8080/",
          "height": 235
        },
        "outputId": "a63aa22a-f3d8-41a2-96f2-b8de4d758544"
      },
      "source": [
        "# TEXT PRE PROCESSING\n",
        "import re\n",
        "def pre_process(text):\n",
        "    # lowercase\n",
        "    text=text.lower()\n",
        "    #remove tags\n",
        "    text=re.sub(\"<!--?.*?-->\",\"\",text)\n",
        "    # remove special characters and digits\n",
        "    text=re.sub(\"(\\\\d|\\\\W)+\",\" \",text)\n",
        "    return text\n",
        "\n",
        "df['content'] = df['content'].astype(str).apply(lambda x:pre_process(x))\n",
        " \n",
        "#show the second 'text' just for fun\n",
        "df['content']"
      ],
      "execution_count": 4,
      "outputs": [
        {
          "output_type": "execute_result",
          "data": {
            "text/plain": [
              "0        iowa caucuses gop presidential hopefuls making...\n",
              "1        many iowans still don t know who they will cau...\n",
              "2        nfl playoff picture a breakdown of scenarios p...\n",
              "3        gop s battle plan against obama use his own wo...\n",
              "4        ron paul leaves rosy outlooks campaign promise...\n",
              "                               ...                        \n",
              "28284    clinton trump win delegate rich arizona but fa...\n",
              "28285    at the white house an abrupt chain reaction sp...\n",
              "28286    trump announces u s will exit paris climate de...\n",
              "28287    trump s new team offers muddled messages on sa...\n",
              "28288    twitter reports super bowl s social statistics...\n",
              "Name: content, Length: 28289, dtype: object"
            ]
          },
          "metadata": {
            "tags": []
          },
          "execution_count": 4
        }
      ]
    },
    {
      "cell_type": "code",
      "metadata": {
        "id": "xAarGdZ48Erq",
        "colab_type": "code",
        "outputId": "18da80c7-ee1c-4b3c-ff0a-a482262e6a18",
        "colab": {
          "base_uri": "https://localhost:8080/",
          "height": 72
        }
      },
      "source": [
        "# unbalanced dataset\n",
        "print(len(df[df.category == 0]))\n",
        "print(len(df[df.category == 1]))\n",
        "print(len(df[df.category == 2]))"
      ],
      "execution_count": 5,
      "outputs": [
        {
          "output_type": "stream",
          "text": [
            "2230\n",
            "13478\n",
            "12581\n"
          ],
          "name": "stdout"
        }
      ]
    },
    {
      "cell_type": "code",
      "metadata": {
        "id": "AD1-lxfCCEgQ",
        "colab_type": "code",
        "colab": {}
      },
      "source": [
        "df_x = df[\"content\"]\n",
        "df_y = df[\"category\"]"
      ],
      "execution_count": 0,
      "outputs": []
    },
    {
      "cell_type": "code",
      "metadata": {
        "id": "aeNlxVT8CIo_",
        "colab_type": "code",
        "outputId": "8ad16741-f6d4-4fbe-b39e-57aa70e52787",
        "colab": {
          "base_uri": "https://localhost:8080/",
          "height": 235
        }
      },
      "source": [
        "df_x"
      ],
      "execution_count": 7,
      "outputs": [
        {
          "output_type": "execute_result",
          "data": {
            "text/plain": [
              "0        iowa caucuses gop presidential hopefuls making...\n",
              "1        many iowans still don t know who they will cau...\n",
              "2        nfl playoff picture a breakdown of scenarios p...\n",
              "3        gop s battle plan against obama use his own wo...\n",
              "4        ron paul leaves rosy outlooks campaign promise...\n",
              "                               ...                        \n",
              "28284    clinton trump win delegate rich arizona but fa...\n",
              "28285    at the white house an abrupt chain reaction sp...\n",
              "28286    trump announces u s will exit paris climate de...\n",
              "28287    trump s new team offers muddled messages on sa...\n",
              "28288    twitter reports super bowl s social statistics...\n",
              "Name: content, Length: 28289, dtype: object"
            ]
          },
          "metadata": {
            "tags": []
          },
          "execution_count": 7
        }
      ]
    },
    {
      "cell_type": "code",
      "metadata": {
        "id": "Qysln8ZoCQAQ",
        "colab_type": "code",
        "colab": {}
      },
      "source": [
        "# STARTING TFIDF VECTORIZER\n",
        "def get_stop_words(stop_file_path):\n",
        "    \"\"\"load stop words \"\"\"\n",
        "    \n",
        "    with open(stop_file_path, 'r', encoding=\"utf-8\") as f:\n",
        "        stopwords = f.readlines()\n",
        "        stop_set = set(m.strip() for m in stopwords)\n",
        "        return frozenset(stop_set)\n",
        " \n",
        "#load a set of stop words\n",
        "stopwords=get_stop_words(\"/content/gdrive/My Drive/Fake Newz/stopwords.txt\")\n",
        "cv = TfidfVectorizer(sublinear_tf = True, min_df = 5, norm = 'l2', stop_words= stopwords, ngram_range = (1, 2), max_features= 10000)"
      ],
      "execution_count": 0,
      "outputs": []
    },
    {
      "cell_type": "code",
      "metadata": {
        "id": "xTrdaj3WCSnJ",
        "colab_type": "code",
        "colab": {}
      },
      "source": [
        "x_train, x_test, y_train, y_test = train_test_split(df_x, df_y, test_size = 0.2, random_state = 0)"
      ],
      "execution_count": 0,
      "outputs": []
    },
    {
      "cell_type": "code",
      "metadata": {
        "id": "HxMqYm2zC1mD",
        "colab_type": "code",
        "colab": {
          "base_uri": "https://localhost:8080/",
          "height": 74
        },
        "outputId": "c7732280-06f6-45e0-dd19-09907f5181f2"
      },
      "source": [
        "x_traincv = cv.fit_transform(x_train.values.astype('U'))"
      ],
      "execution_count": 10,
      "outputs": [
        {
          "output_type": "stream",
          "text": [
            "/usr/local/lib/python3.6/dist-packages/sklearn/feature_extraction/text.py:385: UserWarning: Your stop_words may be inconsistent with your preprocessing. Tokenizing the stop words generated tokens ['come', 'vis', 'viser', 'visest'] not in stop_words.\n",
            "  'stop_words.' % sorted(inconsistent))\n"
          ],
          "name": "stderr"
        }
      ]
    },
    {
      "cell_type": "code",
      "metadata": {
        "id": "tY5rEUMODnBe",
        "colab_type": "code",
        "colab": {}
      },
      "source": [
        "x_testcv = cv.transform(x_test.values.astype('U'))"
      ],
      "execution_count": 0,
      "outputs": []
    },
    {
      "cell_type": "code",
      "metadata": {
        "id": "MTWD2FIOGkjP",
        "colab_type": "code",
        "colab": {}
      },
      "source": [
        "a = x_traincv.toarray()\n",
        "plt.figure(figsize = (20, 4))\n",
        "_ = plt.imshow(a[50: 100, 200:1000])"
      ],
      "execution_count": 0,
      "outputs": []
    },
    {
      "cell_type": "code",
      "metadata": {
        "id": "c9L_Cfh7n5VL",
        "colab_type": "code",
        "colab": {}
      },
      "source": [
        "features = cv.get_feature_names()"
      ],
      "execution_count": 0,
      "outputs": []
    },
    {
      "cell_type": "code",
      "metadata": {
        "id": "znlJ6j-Wn8Ph",
        "colab_type": "code",
        "colab": {}
      },
      "source": [
        "# function to get top n tfidf values in row and return them with their corresponding feature names.\n",
        "def top_tfidf_feats(row, features, top_n=25):\n",
        "    topn_ids = np.argsort(row)[::-1][:top_n]\n",
        "    top_feats = [(features[i], row[i]) for i in topn_ids]\n",
        "    df_feat = pd.DataFrame(top_feats)\n",
        "    df_feat.columns = ['feature', 'tfidf']\n",
        "    return df_feat"
      ],
      "execution_count": 0,
      "outputs": []
    },
    {
      "cell_type": "code",
      "metadata": {
        "id": "zls8r2Swn8_B",
        "colab_type": "code",
        "colab": {}
      },
      "source": [
        "# function to get top tfidf features in specific document (matrix row)\n",
        "def top_feats_in_doc(x_tr, features, row_id, top_n):\n",
        "  row = np.squeeze(x_tr[row_id].toarray())\n",
        "  return top_tfidf_feats(row, features, top_n)"
      ],
      "execution_count": 0,
      "outputs": []
    },
    {
      "cell_type": "code",
      "metadata": {
        "id": "5_RH0fnFoBaf",
        "colab_type": "code",
        "colab": {
          "base_uri": "https://localhost:8080/",
          "height": 490
        },
        "outputId": "ff9bb5ae-11be-4ced-bc55-12e45b3ae56e"
      },
      "source": [
        "# top 25 features in 1000th train article\n",
        "print(top_feats_in_doc(x_traincv, features, 1000, 25))"
      ],
      "execution_count": 15,
      "outputs": [
        {
          "output_type": "stream",
          "text": [
            "             feature     tfidf\n",
            "0           outgoing  0.226735\n",
            "1      new president  0.206345\n",
            "2             gallup  0.177712\n",
            "3           approval  0.176253\n",
            "4           incoming  0.175060\n",
            "5    president first  0.151007\n",
            "6            ratings  0.144457\n",
            "7   approval ratings  0.143502\n",
            "8    approval rating  0.142284\n",
            "9         presidents  0.133242\n",
            "10            viewed  0.132587\n",
            "11           initial  0.131283\n",
            "12            rating  0.131145\n",
            "13        increasing  0.115342\n",
            "14               guy  0.114755\n",
            "15              bush  0.114387\n",
            "16          replaced  0.114231\n",
            "17       performance  0.113966\n",
            "18             lower  0.113462\n",
            "19           willing  0.113306\n",
            "20            reagan  0.111064\n",
            "21             trump  0.109696\n",
            "22            switch  0.108313\n",
            "23            thanks  0.102197\n",
            "24             party  0.100236\n"
          ],
          "name": "stdout"
        }
      ]
    },
    {
      "cell_type": "code",
      "metadata": {
        "id": "x7KUzuQMoESI",
        "colab_type": "code",
        "colab": {}
      },
      "source": [
        "# Return the top n features that on average are most important amongst documents in rows indentified by indices in grp_ids. \n",
        "def top_mean_feats(Xtr, features, grp_ids=None, min_tfidf=0.1, top_n=25):\n",
        "    if grp_ids:\n",
        "        D = Xtr[grp_ids].toarray()\n",
        "    else:\n",
        "        D = Xtr.toarray()\n",
        "\n",
        "    D[D < min_tfidf] = 0\n",
        "    tfidf_means = np.mean(D, axis=0)\n",
        "    return top_tfidf_feats(tfidf_means, features, top_n)"
      ],
      "execution_count": 0,
      "outputs": []
    },
    {
      "cell_type": "code",
      "metadata": {
        "id": "1SMyUR0OoIZw",
        "colab_type": "code",
        "colab": {
          "base_uri": "https://localhost:8080/",
          "height": 490
        },
        "outputId": "e1acca79-2bc7-41c5-c7a3-ab2ca75b2500"
      },
      "source": [
        "# top 25 most important features in the whole corpus \n",
        "print(top_mean_feats(x_traincv, features, grp_ids=None, min_tfidf=0.1, top_n=25))"
      ],
      "execution_count": 17,
      "outputs": [
        {
          "output_type": "stream",
          "text": [
            "           feature     tfidf\n",
            "0            trump  0.009850\n",
            "1             espn  0.006428\n",
            "2           sports  0.005472\n",
            "3           romney  0.005400\n",
            "4          orioles  0.005399\n",
            "5            apple  0.004787\n",
            "6          network  0.004283\n",
            "7               am  0.004237\n",
            "8          clinton  0.004184\n",
            "9          channel  0.004004\n",
            "10            masn  0.003720\n",
            "11            golf  0.003614\n",
            "12      fox sports  0.003491\n",
            "13         company  0.003431\n",
            "14           users  0.003405\n",
            "15             mlb  0.003232\n",
            "16             nfl  0.003204\n",
            "17      nbc sports  0.003118\n",
            "18      tournament  0.003059\n",
            "19           espnu  0.002959\n",
            "20            tour  0.002950\n",
            "21          inning  0.002947\n",
            "22  sports network  0.002886\n",
            "23             nba  0.002878\n",
            "24          google  0.002848\n"
          ],
          "name": "stdout"
        }
      ]
    },
    {
      "cell_type": "code",
      "metadata": {
        "id": "Gd2zSg1-oJBx",
        "colab_type": "code",
        "colab": {}
      },
      "source": [
        "# Return a list of dfs, where each df holds top_n features and their mean tfidf value calculated across documents with the same class label.\n",
        "def top_feats_by_class(Xtr, y, features, min_tfidf=0.1, top_n=25):\n",
        "   \n",
        "    dfs = []\n",
        "    labels = np.unique(y)\n",
        "    for label in labels:\n",
        "        ids = np.where(y==label)\n",
        "        feats_df = top_mean_feats(Xtr, features, ids, min_tfidf=min_tfidf, top_n=top_n)\n",
        "        feats_df.label = label\n",
        "        dfs.append(feats_df)\n",
        "    return dfs"
      ],
      "execution_count": 0,
      "outputs": []
    },
    {
      "cell_type": "code",
      "metadata": {
        "id": "zkt6IvX6oNQj",
        "colab_type": "code",
        "colab": {}
      },
      "source": [
        "# function to plot the tf idf feature importance of both classes\n",
        "def plot_tfidf_classfeats_h(dfs):\n",
        "    # Plot the data frames returned by the function plot_tfidf_classfeats()\n",
        "    fig = plt.figure(figsize=(12, 9), facecolor=\"w\")\n",
        "    x = np.arange(len(dfs[0]))\n",
        "    for i, df in enumerate(dfs):\n",
        "        ax = fig.add_subplot(1, len(dfs), i+1)\n",
        "        ax.spines[\"top\"].set_visible(False)\n",
        "        ax.spines[\"right\"].set_visible(False)\n",
        "        ax.set_frame_on(False)\n",
        "        ax.get_xaxis().tick_bottom()\n",
        "        ax.get_yaxis().tick_left()\n",
        "        ax.set_xlabel(\"Mean Tf-Idf Score\", labelpad=16, fontsize=14)\n",
        "        ax.set_title(\"label = \" + str(df.label), fontsize=16)\n",
        "        ax.ticklabel_format(axis='x', style='sci', scilimits=(-2,2))\n",
        "        ax.barh(x, df.tfidf, align='center', color='#F02491')\n",
        "        ax.set_yticks(x)\n",
        "        ax.set_ylim([-1, x[-1]+1])\n",
        "        yticks = ax.set_yticklabels(df.feature)\n",
        "        plt.subplots_adjust(bottom=0.09, right=0.97, left=0.15, top=0.95, wspace=0.52)\n",
        "    plt.show()"
      ],
      "execution_count": 0,
      "outputs": []
    },
    {
      "cell_type": "code",
      "metadata": {
        "id": "6tPZuln1oQUI",
        "colab_type": "code",
        "colab": {
          "base_uri": "https://localhost:8080/",
          "height": 620
        },
        "outputId": "0d038abd-3585-4602-86ce-c68ff4a1a0ca"
      },
      "source": [
        "dfs = top_feats_by_class(x_traincv, y_train, features, min_tfidf=0.1, top_n= 25)    \n",
        "plot_tfidf_classfeats_h(dfs)"
      ],
      "execution_count": 20,
      "outputs": [
        {
          "output_type": "display_data",
          "data": {
            "image/png": "[encoded data removed]",
            "text/plain": [
              "<Figure size 864x648 with 3 Axes>"
            ]
          },
          "metadata": {
            "tags": []
          }
        }
      ]
    },
    {
      "cell_type": "markdown",
      "metadata": {
        "id": "hAN8dra34Fsu",
        "colab_type": "text"
      },
      "source": [
        "Model Comparison"
      ]
    },
    {
      "cell_type": "code",
      "metadata": {
        "id": "tdtOhUHj4EsG",
        "colab_type": "code",
        "colab": {
          "base_uri": "https://localhost:8080/",
          "height": 338
        },
        "outputId": "d389d759-6938-45b2-c96e-48918eee7351"
      },
      "source": [
        "from sklearn.linear_model import LogisticRegression\n",
        "from sklearn.ensemble import RandomForestClassifier\n",
        "from sklearn.svm import LinearSVC\n",
        "from sklearn.model_selection import cross_val_score\n",
        "models = [\n",
        "    RandomForestClassifier(n_estimators=200, max_depth=3, random_state=0),\n",
        "    LinearSVC(),\n",
        "    MultinomialNB(),\n",
        "    LogisticRegression(random_state=0),\n",
        "]\n",
        "CV = 5\n",
        "cv_df = pd.DataFrame(index=range(CV * len(models)))\n",
        "entries = []\n",
        "for model in models:\n",
        "  model_name = model.__class__.__name__\n",
        "  accuracies = cross_val_score(model, x_traincv, y_train, scoring='accuracy', cv=CV)\n",
        "  for fold_idx, accuracy in enumerate(accuracies):\n",
        "    entries.append((model_name, fold_idx, accuracy))\n",
        "cv_df = pd.DataFrame(entries, columns=['model_name', 'fold_idx', 'accuracy'])\n",
        "import seaborn as sns\n",
        "sns.boxplot(x='model_name', y='accuracy', data=cv_df)\n",
        "sns.stripplot(x='model_name', y='accuracy', data=cv_df, \n",
        "              size=8, jitter=True, edgecolor=\"gray\", linewidth=2)\n",
        "plt.show()"
      ],
      "execution_count": 21,
      "outputs": [
        {
          "output_type": "stream",
          "text": [
            "/usr/local/lib/python3.6/dist-packages/statsmodels/tools/_testing.py:19: FutureWarning: pandas.util.testing is deprecated. Use the functions in the public API at pandas.testing instead.\n",
            "  import pandas.util.testing as tm\n"
          ],
          "name": "stderr"
        },
        {
          "output_type": "display_data",
          "data": {
            "image/png": "[encoded data removed]",
            "text/plain": [
              "<Figure size 432x288 with 1 Axes>"
            ]
          },
          "metadata": {
            "tags": [],
            "needs_background": "light"
          }
        }
      ]
    },
    {
      "cell_type": "code",
      "metadata": {
        "id": "3NJEQZ2c5Pow",
        "colab_type": "code",
        "colab": {
          "base_uri": "https://localhost:8080/",
          "height": 126
        },
        "outputId": "30ae1831-e1c3-4336-8596-702302f3083d"
      },
      "source": [
        "cv_df.groupby('model_name').accuracy.mean()"
      ],
      "execution_count": 22,
      "outputs": [
        {
          "output_type": "execute_result",
          "data": {
            "text/plain": [
              "model_name\n",
              "LinearSVC                 0.994388\n",
              "LogisticRegression        0.991030\n",
              "MultinomialNB             0.983209\n",
              "RandomForestClassifier    0.883302\n",
              "Name: accuracy, dtype: float64"
            ]
          },
          "metadata": {
            "tags": []
          },
          "execution_count": 22
        }
      ]
    },
    {
      "cell_type": "markdown",
      "metadata": {
        "id": "8ass787_xtzF",
        "colab_type": "text"
      },
      "source": [
        "Linear SVM Model"
      ]
    },
    {
      "cell_type": "code",
      "metadata": {
        "id": "_yguDrUYDt8l",
        "colab_type": "code",
        "colab": {}
      },
      "source": [
        "## Linear SVC Model\n",
        "from sklearn.svm import LinearSVC\n",
        "model = LinearSVC().fit(x_traincv, y_train)"
      ],
      "execution_count": 0,
      "outputs": []
    },
    {
      "cell_type": "code",
      "metadata": {
        "id": "n5qI4cKWEDNC",
        "colab_type": "code",
        "outputId": "a671ffec-9698-4d96-f6e9-d41813e59b19",
        "colab": {
          "base_uri": "https://localhost:8080/",
          "height": 35
        }
      },
      "source": [
        "y_pred = model.predict(x_testcv)\n",
        "len(y_pred)"
      ],
      "execution_count": 24,
      "outputs": [
        {
          "output_type": "execute_result",
          "data": {
            "text/plain": [
              "5658"
            ]
          },
          "metadata": {
            "tags": []
          },
          "execution_count": 24
        }
      ]
    },
    {
      "cell_type": "code",
      "metadata": {
        "id": "WCM8WqF0EbXw",
        "colab_type": "code",
        "outputId": "e5927108-9228-41b7-e963-bf32106e5896",
        "colab": {
          "base_uri": "https://localhost:8080/",
          "height": 35
        }
      },
      "source": [
        "y_actual = np.array(y_test)\n",
        "y_actual"
      ],
      "execution_count": 25,
      "outputs": [
        {
          "output_type": "execute_result",
          "data": {
            "text/plain": [
              "array([1, 2, 1, ..., 2, 1, 1])"
            ]
          },
          "metadata": {
            "tags": []
          },
          "execution_count": 25
        }
      ]
    },
    {
      "cell_type": "code",
      "metadata": {
        "id": "kGeORyfTFNsE",
        "colab_type": "code",
        "outputId": "d7ad8ae8-62c3-4626-d69e-f7e9100efd06",
        "colab": {
          "base_uri": "https://localhost:8080/",
          "height": 35
        }
      },
      "source": [
        "# count is the number of prediction that were right\n",
        "count = 0\n",
        "for i in range(len(y_pred)):\n",
        "  if y_pred[i] == y_actual[i]:\n",
        "    count = count + 1\n",
        "count    "
      ],
      "execution_count": 26,
      "outputs": [
        {
          "output_type": "execute_result",
          "data": {
            "text/plain": [
              "5616"
            ]
          },
          "metadata": {
            "tags": []
          },
          "execution_count": 26
        }
      ]
    },
    {
      "cell_type": "code",
      "metadata": {
        "id": "RmkP-NWgFmHs",
        "colab_type": "code",
        "outputId": "d4bc3b6a-2cb5-40ff-e1bc-02a7f167974e",
        "colab": {
          "base_uri": "https://localhost:8080/",
          "height": 308
        }
      },
      "source": [
        "results = confusion_matrix(y_actual, y_pred)\n",
        "print('Confusion Matrix: ')\n",
        "print(results)\n",
        "print('Accuracy Score: ', accuracy_score(y_actual, y_pred))\n",
        "print('Report: ')\n",
        "print(classification_report(y_actual, y_pred))"
      ],
      "execution_count": 27,
      "outputs": [
        {
          "output_type": "stream",
          "text": [
            "Confusion Matrix: \n",
            "[[ 428    2   13]\n",
            " [   0 2683   19]\n",
            " [   3    5 2505]]\n",
            "Accuracy Score:  0.9925768822905621\n",
            "Report: \n",
            "              precision    recall  f1-score   support\n",
            "\n",
            "           0       0.99      0.97      0.98       443\n",
            "           1       1.00      0.99      1.00      2702\n",
            "           2       0.99      1.00      0.99      2513\n",
            "\n",
            "    accuracy                           0.99      5658\n",
            "   macro avg       0.99      0.99      0.99      5658\n",
            "weighted avg       0.99      0.99      0.99      5658\n",
            "\n"
          ],
          "name": "stdout"
        }
      ]
    },
    {
      "cell_type": "code",
      "metadata": {
        "id": "LPE_WQeWGeLp",
        "colab_type": "code",
        "outputId": "eb1f1824-c9e0-4c8f-d74f-ed1544474f86",
        "colab": {
          "base_uri": "https://localhost:8080/",
          "height": 460
        }
      },
      "source": [
        "import seaborn as sn\n",
        "plt.figure(figsize=(10, 7))\n",
        "sn.heatmap(results, annot=True)\n",
        "plt.xlabel('Predicted')\n",
        "plt.ylabel('Truth')"
      ],
      "execution_count": 28,
      "outputs": [
        {
          "output_type": "execute_result",
          "data": {
            "text/plain": [
              "Text(69.0, 0.5, 'Truth')"
            ]
          },
          "metadata": {
            "tags": []
          },
          "execution_count": 28
        },
        {
          "output_type": "display_data",
          "data": {
            "image/png": "[encoded data removed]",
            "text/plain": [
              "<Figure size 720x504 with 2 Axes>"
            ]
          },
          "metadata": {
            "tags": [],
            "needs_background": "light"
          }
        }
      ]
    }
  ]
}